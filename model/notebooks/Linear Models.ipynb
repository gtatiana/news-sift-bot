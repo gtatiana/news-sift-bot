{
 "cells": [
  {
   "cell_type": "code",
   "execution_count": 71,
   "metadata": {
    "pycharm": {
     "name": "#%%\n"
    }
   },
   "outputs": [],
   "source": [
    "import warnings\n",
    "warnings.filterwarnings('ignore')\n",
    "\n",
    "\n",
    "import os\n",
    "import sqlite3\n",
    "import re\n",
    "import nltk\n",
    "\n",
    " \n",
    "\n",
    "import pandas as pd\n",
    "import numpy as np\n",
    "\n",
    "import seaborn as sns\n",
    "from matplotlib import pyplot as plt\n",
    "\n",
    "from sklearn.model_selection import train_test_split\n",
    "from sklearn.feature_extraction.text import TfidfVectorizer, CountVectorizer\n",
    "from nltk.stem import PorterStemmer, WordNetLemmatizer\n",
    "from nltk.tokenize import sent_tokenize, word_tokenize\n",
    "from nltk.corpus import stopwords\n",
    "from sklearn.feature_selection import SelectKBest, chi2, f_classif\n",
    "from sklearn.model_selection import GridSearchCV\n",
    "\n",
    "\n",
    "from sklearn.linear_model import LogisticRegression, LogisticRegressionCV\n",
    "from sklearn.svm import SVC\n",
    "from sklearn.naive_bayes import MultinomialNB\n",
    "\n",
    "from sklearn.metrics import accuracy_score, precision_score, recall_score, f1_score, roc_auc_score\n",
    "\n",
    "import tensorflow as tf\n",
    "from tensorflow import keras\n",
    "from keras.models import Sequential, Model\n",
    "from keras.layers import Dense, Dropout, Activation, Input\n",
    "from tensorflow.keras import layers\n",
    "from keras.preprocessing.sequence import pad_sequences\n"
   ]
  },
  {
   "cell_type": "markdown",
   "metadata": {},
   "source": [
    "### Download the data"
   ]
  },
  {
   "cell_type": "code",
   "execution_count": 72,
   "metadata": {
    "pycharm": {
     "name": "#%%\n"
    }
   },
   "outputs": [],
   "source": [
    "con = sqlite3.connect('/home/yura/PycharmProjects/news-filter/data/db/news_filter.db')\n",
    "\n",
    "data = pd.read_sql_query(\"SELECT * FROM article\", con)"
   ]
  },
  {
   "cell_type": "markdown",
   "metadata": {},
   "source": [
    "### Data exploring"
   ]
  },
  {
   "cell_type": "code",
   "execution_count": 73,
   "metadata": {
    "scrolled": false
   },
   "outputs": [
    {
     "data": {
      "text/html": [
       "<div>\n",
       "<style scoped>\n",
       "    .dataframe tbody tr th:only-of-type {\n",
       "        vertical-align: middle;\n",
       "    }\n",
       "\n",
       "    .dataframe tbody tr th {\n",
       "        vertical-align: top;\n",
       "    }\n",
       "\n",
       "    .dataframe thead th {\n",
       "        text-align: right;\n",
       "    }\n",
       "</style>\n",
       "<table border=\"1\" class=\"dataframe\">\n",
       "  <thead>\n",
       "    <tr style=\"text-align: right;\">\n",
       "      <th></th>\n",
       "      <th>id</th>\n",
       "      <th>tittle</th>\n",
       "      <th>link</th>\n",
       "      <th>content</th>\n",
       "      <th>category</th>\n",
       "    </tr>\n",
       "  </thead>\n",
       "  <tbody>\n",
       "    <tr>\n",
       "      <th>0</th>\n",
       "      <td>1</td>\n",
       "      <td>How her own illness led one woman to set up a ...</td>\n",
       "      <td>https://www.bbc.com/news/business-54088916</td>\n",
       "      <td>How her own illness led one woman to set up a ...</td>\n",
       "      <td>1.0</td>\n",
       "    </tr>\n",
       "    <tr>\n",
       "      <th>1</th>\n",
       "      <td>2</td>\n",
       "      <td>The boss who bounced her way to Â£3m from just...</td>\n",
       "      <td>https://www.bbc.com/news/business-53579590</td>\n",
       "      <td>The boss who bounced her way to Â£3m from just...</td>\n",
       "      <td>1.0</td>\n",
       "    </tr>\n",
       "    <tr>\n",
       "      <th>2</th>\n",
       "      <td>3</td>\n",
       "      <td>Ellesmere Port: Vauxhall plant pauses producti...</td>\n",
       "      <td>https://www.bbc.com/news/business-56300654</td>\n",
       "      <td>Ellesmere Port: Vauxhall plant pauses producti...</td>\n",
       "      <td>0.0</td>\n",
       "    </tr>\n",
       "    <tr>\n",
       "      <th>3</th>\n",
       "      <td>4</td>\n",
       "      <td>Covid: How Bracknell's Coral Reef pool looks i...</td>\n",
       "      <td>https://www.bbc.com/news/uk-england-berkshire-...</td>\n",
       "      <td>Covid: How Bracknell's Coral Reef pool looks i...</td>\n",
       "      <td>0.0</td>\n",
       "    </tr>\n",
       "    <tr>\n",
       "      <th>4</th>\n",
       "      <td>5</td>\n",
       "      <td>Covid-19: Young cancer patients on facing trea...</td>\n",
       "      <td>https://www.bbc.com/news/uk-northern-ireland-5...</td>\n",
       "      <td>Covid-19: Young cancer patients on facing trea...</td>\n",
       "      <td>0.0</td>\n",
       "    </tr>\n",
       "  </tbody>\n",
       "</table>\n",
       "</div>"
      ],
      "text/plain": [
       "   id                                             tittle  \\\n",
       "0   1  How her own illness led one woman to set up a ...   \n",
       "1   2  The boss who bounced her way to Â£3m from just...   \n",
       "2   3  Ellesmere Port: Vauxhall plant pauses producti...   \n",
       "3   4  Covid: How Bracknell's Coral Reef pool looks i...   \n",
       "4   5  Covid-19: Young cancer patients on facing trea...   \n",
       "\n",
       "                                                link  \\\n",
       "0         https://www.bbc.com/news/business-54088916   \n",
       "1         https://www.bbc.com/news/business-53579590   \n",
       "2         https://www.bbc.com/news/business-56300654   \n",
       "3  https://www.bbc.com/news/uk-england-berkshire-...   \n",
       "4  https://www.bbc.com/news/uk-northern-ireland-5...   \n",
       "\n",
       "                                             content  category  \n",
       "0  How her own illness led one woman to set up a ...       1.0  \n",
       "1  The boss who bounced her way to Â£3m from just...       1.0  \n",
       "2  Ellesmere Port: Vauxhall plant pauses producti...       0.0  \n",
       "3  Covid: How Bracknell's Coral Reef pool looks i...       0.0  \n",
       "4  Covid-19: Young cancer patients on facing trea...       0.0  "
      ]
     },
     "execution_count": 73,
     "metadata": {},
     "output_type": "execute_result"
    }
   ],
   "source": [
    "data.head()"
   ]
  },
  {
   "cell_type": "code",
   "execution_count": 74,
   "metadata": {},
   "outputs": [
    {
     "data": {
      "text/plain": [
       "(1493, 5)"
      ]
     },
     "execution_count": 74,
     "metadata": {},
     "output_type": "execute_result"
    }
   ],
   "source": [
    "data.shape"
   ]
  },
  {
   "cell_type": "code",
   "execution_count": 75,
   "metadata": {},
   "outputs": [
    {
     "name": "stdout",
     "output_type": "stream",
     "text": [
      "<class 'pandas.core.frame.DataFrame'>\n",
      "RangeIndex: 1493 entries, 0 to 1492\n",
      "Data columns (total 5 columns):\n",
      " #   Column    Non-Null Count  Dtype  \n",
      "---  ------    --------------  -----  \n",
      " 0   id        1493 non-null   int64  \n",
      " 1   tittle    1493 non-null   object \n",
      " 2   link      1493 non-null   object \n",
      " 3   content   1493 non-null   object \n",
      " 4   category  796 non-null    float64\n",
      "dtypes: float64(1), int64(1), object(3)\n",
      "memory usage: 58.4+ KB\n"
     ]
    }
   ],
   "source": [
    "data.info()"
   ]
  },
  {
   "cell_type": "code",
   "execution_count": 76,
   "metadata": {},
   "outputs": [
    {
     "data": {
      "text/plain": [
       "count    796.000000\n",
       "mean       0.525126\n",
       "std        0.499682\n",
       "min        0.000000\n",
       "25%        0.000000\n",
       "50%        1.000000\n",
       "75%        1.000000\n",
       "max        1.000000\n",
       "Name: category, dtype: float64"
      ]
     },
     "execution_count": 76,
     "metadata": {},
     "output_type": "execute_result"
    }
   ],
   "source": [
    "data['category'].describe()"
   ]
  },
  {
   "cell_type": "code",
   "execution_count": 77,
   "metadata": {},
   "outputs": [
    {
     "data": {
      "text/plain": [
       "1.0    418\n",
       "0.0    378\n",
       "Name: category, dtype: int64"
      ]
     },
     "execution_count": 77,
     "metadata": {},
     "output_type": "execute_result"
    }
   ],
   "source": [
    "data['category'].value_counts()"
   ]
  },
  {
   "cell_type": "code",
   "execution_count": 78,
   "metadata": {},
   "outputs": [
    {
     "data": {
      "image/png": "[encoded data removed]",
      "text/plain": [
       "<Figure size 432x288 with 1 Axes>"
      ]
     },
     "metadata": {
      "needs_background": "light"
     },
     "output_type": "display_data"
    }
   ],
   "source": [
    "sns.countplot(data['category']);"
   ]
  },
  {
   "cell_type": "markdown",
   "metadata": {},
   "source": [
    "### Data preprocessing"
   ]
  },
  {
   "cell_type": "code",
   "execution_count": 79,
   "metadata": {},
   "outputs": [],
   "source": [
    "data.dropna(inplace=True)"
   ]
  },
  {
   "cell_type": "code",
   "execution_count": 80,
   "metadata": {},
   "outputs": [],
   "source": [
    "data['category'] = data['category'].astype(int)"
   ]
  },
  {
   "cell_type": "code",
   "execution_count": 81,
   "metadata": {
    "scrolled": true
   },
   "outputs": [],
   "source": [
    "train, test = train_test_split(data, test_size = 0.3, random_state=1)\n"
   ]
  },
  {
   "cell_type": "code",
   "execution_count": null,
   "metadata": {},
   "outputs": [],
   "source": []
  },
  {
   "cell_type": "code",
   "execution_count": 82,
   "metadata": {},
   "outputs": [],
   "source": [
    "def remove_non_words(content):\n",
    "    \n",
    "    content = re.sub(r'[^\\w\\s]', '', text)\n",
    "    content = re.sub(r'\\d+', '', text)\n",
    "    return content\n",
    "\n",
    "\n",
    "def stem_text(text):\n",
    "    stemmer = PorterStemmer()\n",
    "    token_words = word_tokenize(text)\n",
    "    stem_text = []\n",
    "    for word in token_words:\n",
    "        stem_text.append(stemmer.stem(word))\n",
    "        stem_text.append(' ')\n",
    "    return ''.join(stem_text)\n",
    "\n",
    "\n",
    "def lemm_text(text):\n",
    "    wordnet_lemmatizer = WordNetLemmatizer()\n",
    "    token_words = word_tokenize(text)\n",
    "    lemm_text = []\n",
    "    for word in token_words:\n",
    "        lemm_text.append(wordnet_lemmatizer.lemmatize(word))\n",
    "        lemm_text.append(' ')\n",
    "    return ''.join(lemm_text)\n",
    "    "
   ]
  },
  {
   "cell_type": "code",
   "execution_count": 83,
   "metadata": {},
   "outputs": [],
   "source": [
    "\n",
    "\n",
    "clean_train = []\n",
    "clean_test = []\n",
    "clean_new = []\n",
    "for text in train['content']:\n",
    "    clean_train.append(remove_non_words(text))\n",
    "        \n",
    "        \n",
    "for text in test['content']:\n",
    "    clean_test.append(remove_non_words(text))\n",
    "    \n",
    "\n",
    "'''for i, text in enumerate(clean_train):\n",
    "    clean_train[i] = lemm_text(text)\n",
    "    \n",
    "    \n",
    "for i, text in enumerate(clean_test):\n",
    "    clean_test[i] = lemm_text(text)'''\n",
    "    \n",
    "        \n",
    "for i, text in enumerate(clean_train):\n",
    "    clean_train[i] = stem_text(text)\n",
    "    \n",
    "    \n",
    "for i, text in enumerate(clean_test):\n",
    "    clean_test[i] = stem_text(text)\n",
    "  "
   ]
  },
  {
   "cell_type": "markdown",
   "metadata": {},
   "source": [
    "### Feature extraction"
   ]
  },
  {
   "cell_type": "markdown",
   "metadata": {},
   "source": [
    "TF-IDF vectorizer"
   ]
  },
  {
   "cell_type": "code",
   "execution_count": 84,
   "metadata": {},
   "outputs": [],
   "source": [
    "vectorizer = TfidfVectorizer(stop_words='english', ngram_range=(1,3), max_df=0.8, min_df=2, sublinear_tf=True)\n",
    "\n",
    "vectorizer.fit(clean_train)\n",
    "\n",
    "X_train = vectorizer.transform(clean_train)\n",
    "\n",
    "X_test = vectorizer.transform(clean_test)\n",
    "\n",
    "\n"
   ]
  },
  {
   "cell_type": "markdown",
   "metadata": {},
   "source": [
    "Count Vectorizer"
   ]
  },
  {
   "cell_type": "code",
   "execution_count": 85,
   "metadata": {},
   "outputs": [
    {
     "data": {
      "text/plain": [
       "\"vectorizer = CountVectorizer(stop_words='english', ngram_range=(1,3), max_df=0.8, min_df=2)\\n\\nvectorizer.fit(clean_train)\\n\\nX_train = vectorizer.transform(clean_train)\\n\\nX_test = vectorizer.transform(clean_test)\""
      ]
     },
     "execution_count": 85,
     "metadata": {},
     "output_type": "execute_result"
    }
   ],
   "source": [
    "'''vectorizer = CountVectorizer(stop_words='english', ngram_range=(1,3), max_df=0.8, min_df=2)\n",
    "\n",
    "vectorizer.fit(clean_train)\n",
    "\n",
    "X_train = vectorizer.transform(clean_train)\n",
    "\n",
    "X_test = vectorizer.transform(clean_test)'''"
   ]
  },
  {
   "cell_type": "code",
   "execution_count": 86,
   "metadata": {},
   "outputs": [],
   "source": [
    "fselect = SelectKBest(chi2 , k=25000)\n",
    "X_train = fselect.fit_transform(X_train, train['category'])\n",
    "X_test = fselect.transform(X_test)"
   ]
  },
  {
   "cell_type": "markdown",
   "metadata": {},
   "source": [
    "### Models"
   ]
  },
  {
   "cell_type": "markdown",
   "metadata": {},
   "source": [
    "Logistic Regression"
   ]
  },
  {
   "cell_type": "code",
   "execution_count": 87,
   "metadata": {
    "scrolled": true
   },
   "outputs": [
    {
     "data": {
      "text/plain": [
       "0.7531380753138075"
      ]
     },
     "execution_count": 87,
     "metadata": {},
     "output_type": "execute_result"
    }
   ],
   "source": [
    "log_reg  = LogisticRegression(solver='liblinear', random_state=42, n_jobs=-1)\n",
    "\n",
    "log_reg.fit(X_train, train['category'])\n",
    "\n",
    "log_reg_predict = log_reg.predict(X_test)\n",
    "\n",
    "accuracy_score(test['category'], log_reg_predict)"
   ]
  },
  {
   "cell_type": "code",
   "execution_count": 88,
   "metadata": {},
   "outputs": [
    {
     "data": {
      "text/plain": [
       "0.7633587786259542"
      ]
     },
     "execution_count": 88,
     "metadata": {},
     "output_type": "execute_result"
    }
   ],
   "source": [
    "precision_score(test['category'], log_reg_predict)"
   ]
  },
  {
   "cell_type": "code",
   "execution_count": 89,
   "metadata": {},
   "outputs": [
    {
     "data": {
      "text/plain": [
       "0.78125"
      ]
     },
     "execution_count": 89,
     "metadata": {},
     "output_type": "execute_result"
    }
   ],
   "source": [
    "recall_score(test['category'], log_reg_predict)"
   ]
  },
  {
   "cell_type": "code",
   "execution_count": 90,
   "metadata": {},
   "outputs": [
    {
     "data": {
      "text/plain": [
       "0.7722007722007723"
      ]
     },
     "execution_count": 90,
     "metadata": {},
     "output_type": "execute_result"
    }
   ],
   "source": [
    "f1_score(test['category'], log_reg_predict)"
   ]
  },
  {
   "cell_type": "code",
   "execution_count": 91,
   "metadata": {},
   "outputs": [
    {
     "data": {
      "text/plain": [
       "0.7509853603603603"
      ]
     },
     "execution_count": 91,
     "metadata": {},
     "output_type": "execute_result"
    }
   ],
   "source": [
    "roc_auc_score(test['category'], log_reg_predict)"
   ]
  },
  {
   "cell_type": "code",
   "execution_count": 92,
   "metadata": {},
   "outputs": [
    {
     "data": {
      "text/plain": [
       "0.7531380753138075"
      ]
     },
     "execution_count": 92,
     "metadata": {},
     "output_type": "execute_result"
    }
   ],
   "source": [
    "parameters = {'C': [1, 2, 3, 5, 6, 7, 8, 9, 10]}\n",
    "\n",
    "log_reg_cv = GridSearchCV(LogisticRegression(solver='liblinear', random_state=42, n_jobs=-1), parameters)\n",
    "\n",
    "log_reg_cv.fit(X_train, train['category'])\n",
    "\n",
    "log_reg_predict_cv = log_reg_cv.predict(X_test)\n",
    "\n",
    "accuracy_score(test['category'], log_reg_predict_cv)"
   ]
  },
  {
   "cell_type": "code",
   "execution_count": 93,
   "metadata": {},
   "outputs": [
    {
     "data": {
      "text/plain": [
       "{'C': 9}"
      ]
     },
     "execution_count": 93,
     "metadata": {},
     "output_type": "execute_result"
    }
   ],
   "source": [
    "log_reg_cv.best_params_"
   ]
  },
  {
   "cell_type": "markdown",
   "metadata": {},
   "source": [
    "Support Vector Classification"
   ]
  },
  {
   "cell_type": "code",
   "execution_count": 94,
   "metadata": {},
   "outputs": [
    {
     "data": {
      "text/plain": [
       "0.7405857740585774"
      ]
     },
     "execution_count": 94,
     "metadata": {},
     "output_type": "execute_result"
    }
   ],
   "source": [
    "svc = SVC(kernel='linear', C=5, random_state=42)\n",
    "\n",
    "svc.fit(X_train, train['category'])\n",
    "\n",
    "svc_predict = svc.predict(X_test)\n",
    "\n",
    "accuracy_score(test['category'], svc_predict)"
   ]
  },
  {
   "cell_type": "code",
   "execution_count": 95,
   "metadata": {},
   "outputs": [
    {
     "data": {
      "text/plain": [
       "\"parameters = {'kernel': ('linear', 'rbf'),\\n              'C': [1, 2, 3, 5, 6, 7, 8, 9, 10]}\\n\\nsvc_cv = GridSearchCV(SVC(random_state=42), parameters)\\n\\nsvc_cv.fit(X_train, train['category'])\\n\\nsvc_predict_cv = svc_cv.predict(X_test)\\n\\naccuracy_score(test['category'], svc_predict_cv)\""
      ]
     },
     "execution_count": 95,
     "metadata": {},
     "output_type": "execute_result"
    }
   ],
   "source": [
    "'''parameters = {'kernel': ('linear', 'rbf'),\n",
    "              'C': [1, 2, 3, 5, 6, 7, 8, 9, 10]}\n",
    "\n",
    "svc_cv = GridSearchCV(SVC(random_state=42), parameters)\n",
    "\n",
    "svc_cv.fit(X_train, train['category'])\n",
    "\n",
    "svc_predict_cv = svc_cv.predict(X_test)\n",
    "\n",
    "accuracy_score(test['category'], svc_predict_cv)'''"
   ]
  },
  {
   "cell_type": "code",
   "execution_count": 96,
   "metadata": {},
   "outputs": [
    {
     "data": {
      "text/plain": [
       "'svc_cv.best_params_'"
      ]
     },
     "execution_count": 96,
     "metadata": {},
     "output_type": "execute_result"
    }
   ],
   "source": [
    "'''svc_cv.best_params_'''"
   ]
  },
  {
   "cell_type": "markdown",
   "metadata": {},
   "source": [
    "Naive Bayes"
   ]
  },
  {
   "cell_type": "code",
   "execution_count": 97,
   "metadata": {},
   "outputs": [
    {
     "data": {
      "text/plain": [
       "0.7489539748953975"
      ]
     },
     "execution_count": 97,
     "metadata": {},
     "output_type": "execute_result"
    }
   ],
   "source": [
    "bayes_clf = MultinomialNB()\n",
    "\n",
    "bayes_clf.fit(X_train, train['category'])\n",
    "\n",
    "bayes_clf_predict = bayes_clf.predict(X_test)\n",
    "\n",
    "accuracy_score(test['category'], bayes_clf_predict)"
   ]
  },
  {
   "cell_type": "code",
   "execution_count": 98,
   "metadata": {},
   "outputs": [],
   "source": [
    "\n",
    "from keras.models import Sequential, Model\n",
    "from keras.layers import Dense, Dropout, Activation, Input\n"
   ]
  },
  {
   "cell_type": "code",
   "execution_count": 99,
   "metadata": {},
   "outputs": [],
   "source": [
    "model = Sequential()\n",
    "model.add(Dense(32,input_dim=X_train.shape[1], kernel_initializer='normal', activation='relu'))\n",
    "model.add(Dense(8, kernel_initializer='normal', activation='relu'))\n",
    "model.add(Dense(4, kernel_initializer='normal', activation='relu'))\n",
    "model.add(Dense(1, activation='sigmoid'))\n",
    "\n",
    "model.compile(loss='binary_crossentropy', optimizer='adam', metrics=['accuracy'])"
   ]
  },
  {
   "cell_type": "code",
   "execution_count": 100,
   "metadata": {},
   "outputs": [
    {
     "name": "stdout",
     "output_type": "stream",
     "text": [
      "Model: \"sequential_2\"\n",
      "_________________________________________________________________\n",
      "Layer (type)                 Output Shape              Param #   \n",
      "=================================================================\n",
      "dense_8 (Dense)              (None, 32)                800032    \n",
      "_________________________________________________________________\n",
      "dense_9 (Dense)              (None, 8)                 264       \n",
      "_________________________________________________________________\n",
      "dense_10 (Dense)             (None, 4)                 36        \n",
      "_________________________________________________________________\n",
      "dense_11 (Dense)             (None, 1)                 5         \n",
      "=================================================================\n",
      "Total params: 800,337\n",
      "Trainable params: 800,337\n",
      "Non-trainable params: 0\n",
      "_________________________________________________________________\n"
     ]
    }
   ],
   "source": [
    "model.summary()"
   ]
  },
  {
   "cell_type": "code",
   "execution_count": 101,
   "metadata": {
    "scrolled": true
   },
   "outputs": [],
   "source": [
    "history = model.fit(X_train.toarray(), train['category'].values, validation_split=0.2, epochs=20, verbose=0)"
   ]
  },
  {
   "cell_type": "code",
   "execution_count": 102,
   "metadata": {},
   "outputs": [
    {
     "data": {
      "text/plain": [
       "[1.0805119276046753, 0.581589937210083]"
      ]
     },
     "execution_count": 102,
     "metadata": {},
     "output_type": "execute_result"
    }
   ],
   "source": [
    "model.evaluate(X_test.toarray(), test['category'].values, verbose=False)"
   ]
  },
  {
   "cell_type": "code",
   "execution_count": null,
   "metadata": {},
   "outputs": [],
   "source": []
  },
  {
   "cell_type": "code",
   "execution_count": 103,
   "metadata": {},
   "outputs": [
    {
     "data": {
      "text/plain": [
       "\"\\nmodel = Sequential()\\nmodel.add(Dense(500, input_dim=X_train.shape[1], kernel_initializer='normal', activation='relu'))\\nmodel.add(Dense(1, activation='sigmoid'))\\n\\nmodel.compile(loss='binary_crossentropy', optimizer='adam', metrics=['accuracy'])\""
      ]
     },
     "execution_count": 103,
     "metadata": {},
     "output_type": "execute_result"
    }
   ],
   "source": [
    "'''\n",
    "model = Sequential()\n",
    "model.add(Dense(500, input_dim=X_train.shape[1], kernel_initializer='normal', activation='relu'))\n",
    "model.add(Dense(1, activation='sigmoid'))\n",
    "\n",
    "model.compile(loss='binary_crossentropy', optimizer='adam', metrics=['accuracy'])'''"
   ]
  },
  {
   "cell_type": "code",
   "execution_count": 104,
   "metadata": {},
   "outputs": [
    {
     "data": {
      "image/png": "[encoded data removed]",
      "text/plain": [
       "<Figure size 432x288 with 1 Axes>"
      ]
     },
     "metadata": {
      "needs_background": "light"
     },
     "output_type": "display_data"
    }
   ],
   "source": [
    "plt.plot(history.history['loss'], 'b', label='training loss')\n",
    "plt.plot(history.history['val_loss'], 'r', label='validation loss')\n",
    "plt.legend()\n",
    "plt.grid(True)\n",
    "plt.show;"
   ]
  },
  {
   "cell_type": "code",
   "execution_count": 105,
   "metadata": {},
   "outputs": [
    {
     "data": {
      "image/png": "[encoded data removed]",
      "text/plain": [
       "<Figure size 432x288 with 1 Axes>"
      ]
     },
     "metadata": {
      "needs_background": "light"
     },
     "output_type": "display_data"
    }
   ],
   "source": [
    "plt.plot(history.history['accuracy'], 'b', label='training accuracy')\n",
    "plt.plot(history.history['val_accuracy'], 'r', label='validation accuracy')\n",
    "plt.legend()\n",
    "plt.grid(True)\n",
    "plt.show;"
   ]
  },
  {
   "cell_type": "code",
   "execution_count": null,
   "metadata": {},
   "outputs": [],
   "source": []
  },
  {
   "cell_type": "code",
   "execution_count": null,
   "metadata": {},
   "outputs": [],
   "source": []
  },
  {
   "cell_type": "code",
   "execution_count": null,
   "metadata": {},
   "outputs": [],
   "source": [
    "\n"
   ]
  },
  {
   "cell_type": "code",
   "execution_count": null,
   "metadata": {},
   "outputs": [],
   "source": []
  },
  {
   "cell_type": "code",
   "execution_count": null,
   "metadata": {},
   "outputs": [],
   "source": []
  },
  {
   "cell_type": "code",
   "execution_count": null,
   "metadata": {},
   "outputs": [],
   "source": [
    "\n"
   ]
  },
  {
   "cell_type": "code",
   "execution_count": null,
   "metadata": {},
   "outputs": [],
   "source": []
  },
  {
   "cell_type": "markdown",
   "metadata": {},
   "source": [
    "\n",
    "\n",
    "\n",
    "\n",
    "\n",
    "\n",
    "\n",
    "\n",
    "\n",
    "\n",
    "\n",
    "\n",
    "\n",
    "\n",
    "\n",
    "\n",
    "\n",
    "\n",
    "\n",
    "\n",
    "\n"
   ]
  }
 ],
 "metadata": {
  "kernelspec": {
   "display_name": "Python 3",
   "language": "python",
   "name": "python3"
  },
  "language_info": {
   "codemirror_mode": {
    "name": "ipython",
    "version": 3
   },
   "file_extension": ".py",
   "mimetype": "text/x-python",
   "name": "python",
   "nbconvert_exporter": "python",
   "pygments_lexer": "ipython3",
   "version": "3.8.8"
  }
 },
 "nbformat": 4,
 "nbformat_minor": 1
}