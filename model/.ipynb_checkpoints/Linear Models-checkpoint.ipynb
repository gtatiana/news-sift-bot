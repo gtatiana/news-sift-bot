{
 "cells": [
  {
   "cell_type": "code",
   "execution_count": 731,
   "metadata": {
    "pycharm": {
     "name": "#%%\n"
    }
   },
   "outputs": [
    {
     "name": "stderr",
     "output_type": "stream",
     "text": [
      "[nltk_data] Downloading package punkt to /home/yura/nltk_data...\n",
      "[nltk_data]   Package punkt is already up-to-date!\n",
      "[nltk_data] Downloading package stopwords to /home/yura/nltk_data...\n",
      "[nltk_data]   Package stopwords is already up-to-date!\n",
      "[nltk_data] Downloading package wordnet to /home/yura/nltk_data...\n",
      "[nltk_data]   Package wordnet is already up-to-date!\n"
     ]
    }
   ],
   "source": [
    "import warnings\n",
    "warnings.filterwarnings('ignore')\n",
    "\n",
    "\n",
    "import os\n",
    "import sqlite3\n",
    "import re\n",
    "import nltk\n",
    "nltk.download('punkt')\n",
    "nltk.download('stopwords')\n",
    "nltk.download('wordnet')\n",
    " \n",
    "\n",
    "import pandas as pd\n",
    "import numpy as np\n",
    "\n",
    "import seaborn as sns\n",
    "from matplotlib import pyplot as plt\n",
    "\n",
    "from sklearn.model_selection import train_test_split\n",
    "from sklearn.feature_extraction.text import TfidfVectorizer, CountVectorizer\n",
    "from nltk.stem import PorterStemmer, WordNetLemmatizer\n",
    "from nltk.tokenize import sent_tokenize, word_tokenize\n",
    "from nltk.corpus import stopwords\n",
    "from sklearn.feature_selection import SelectKBest, chi2, f_classif\n",
    "from sklearn.model_selection import GridSearchCV\n",
    "\n",
    "\n",
    "from sklearn.linear_model import LogisticRegression, LogisticRegressionCV\n",
    "from sklearn.svm import SVC\n",
    "from sklearn.naive_bayes import MultinomialNB\n",
    "\n",
    "from sklearn.metrics import accuracy_score\n"
   ]
  },
  {
   "cell_type": "markdown",
   "metadata": {},
   "source": [
    "### Download the data"
   ]
  },
  {
   "cell_type": "code",
   "execution_count": 732,
   "metadata": {
    "pycharm": {
     "name": "#%%\n"
    }
   },
   "outputs": [],
   "source": [
    "con = sqlite3.connect('/home/yura/PycharmProjects/news-filter/data/db/news_filter.db')\n",
    "\n",
    "data = pd.read_sql_query(\"SELECT * FROM article\", con)"
   ]
  },
  {
   "cell_type": "markdown",
   "metadata": {},
   "source": [
    "### Data exploring"
   ]
  },
  {
   "cell_type": "code",
   "execution_count": 733,
   "metadata": {
    "scrolled": false
   },
   "outputs": [
    {
     "data": {
      "text/html": [
       "<div>\n",
       "<style scoped>\n",
       "    .dataframe tbody tr th:only-of-type {\n",
       "        vertical-align: middle;\n",
       "    }\n",
       "\n",
       "    .dataframe tbody tr th {\n",
       "        vertical-align: top;\n",
       "    }\n",
       "\n",
       "    .dataframe thead th {\n",
       "        text-align: right;\n",
       "    }\n",
       "</style>\n",
       "<table border=\"1\" class=\"dataframe\">\n",
       "  <thead>\n",
       "    <tr style=\"text-align: right;\">\n",
       "      <th></th>\n",
       "      <th>id</th>\n",
       "      <th>tittle</th>\n",
       "      <th>link</th>\n",
       "      <th>content</th>\n",
       "      <th>category</th>\n",
       "    </tr>\n",
       "  </thead>\n",
       "  <tbody>\n",
       "    <tr>\n",
       "      <th>0</th>\n",
       "      <td>1</td>\n",
       "      <td>How her own illness led one woman to set up a ...</td>\n",
       "      <td>https://www.bbc.com/news/business-54088916</td>\n",
       "      <td>How her own illness led one woman to set up a ...</td>\n",
       "      <td>1.0</td>\n",
       "    </tr>\n",
       "    <tr>\n",
       "      <th>1</th>\n",
       "      <td>2</td>\n",
       "      <td>The boss who bounced her way to Â£3m from just...</td>\n",
       "      <td>https://www.bbc.com/news/business-53579590</td>\n",
       "      <td>The boss who bounced her way to Â£3m from just...</td>\n",
       "      <td>1.0</td>\n",
       "    </tr>\n",
       "    <tr>\n",
       "      <th>2</th>\n",
       "      <td>3</td>\n",
       "      <td>Ellesmere Port: Vauxhall plant pauses producti...</td>\n",
       "      <td>https://www.bbc.com/news/business-56300654</td>\n",
       "      <td>Ellesmere Port: Vauxhall plant pauses producti...</td>\n",
       "      <td>0.0</td>\n",
       "    </tr>\n",
       "    <tr>\n",
       "      <th>3</th>\n",
       "      <td>4</td>\n",
       "      <td>Covid: How Bracknell's Coral Reef pool looks i...</td>\n",
       "      <td>https://www.bbc.com/news/uk-england-berkshire-...</td>\n",
       "      <td>Covid: How Bracknell's Coral Reef pool looks i...</td>\n",
       "      <td>0.0</td>\n",
       "    </tr>\n",
       "    <tr>\n",
       "      <th>4</th>\n",
       "      <td>5</td>\n",
       "      <td>Covid-19: Young cancer patients on facing trea...</td>\n",
       "      <td>https://www.bbc.com/news/uk-northern-ireland-5...</td>\n",
       "      <td>Covid-19: Young cancer patients on facing trea...</td>\n",
       "      <td>0.0</td>\n",
       "    </tr>\n",
       "  </tbody>\n",
       "</table>\n",
       "</div>"
      ],
      "text/plain": [
       "   id                                             tittle  \\\n",
       "0   1  How her own illness led one woman to set up a ...   \n",
       "1   2  The boss who bounced her way to Â£3m from just...   \n",
       "2   3  Ellesmere Port: Vauxhall plant pauses producti...   \n",
       "3   4  Covid: How Bracknell's Coral Reef pool looks i...   \n",
       "4   5  Covid-19: Young cancer patients on facing trea...   \n",
       "\n",
       "                                                link  \\\n",
       "0         https://www.bbc.com/news/business-54088916   \n",
       "1         https://www.bbc.com/news/business-53579590   \n",
       "2         https://www.bbc.com/news/business-56300654   \n",
       "3  https://www.bbc.com/news/uk-england-berkshire-...   \n",
       "4  https://www.bbc.com/news/uk-northern-ireland-5...   \n",
       "\n",
       "                                             content  category  \n",
       "0  How her own illness led one woman to set up a ...       1.0  \n",
       "1  The boss who bounced her way to Â£3m from just...       1.0  \n",
       "2  Ellesmere Port: Vauxhall plant pauses producti...       0.0  \n",
       "3  Covid: How Bracknell's Coral Reef pool looks i...       0.0  \n",
       "4  Covid-19: Young cancer patients on facing trea...       0.0  "
      ]
     },
     "execution_count": 733,
     "metadata": {},
     "output_type": "execute_result"
    }
   ],
   "source": [
    "data.head()"
   ]
  },
  {
   "cell_type": "code",
   "execution_count": 734,
   "metadata": {},
   "outputs": [
    {
     "data": {
      "text/plain": [
       "(813, 5)"
      ]
     },
     "execution_count": 734,
     "metadata": {},
     "output_type": "execute_result"
    }
   ],
   "source": [
    "data.shape"
   ]
  },
  {
   "cell_type": "code",
   "execution_count": 735,
   "metadata": {},
   "outputs": [
    {
     "name": "stdout",
     "output_type": "stream",
     "text": [
      "<class 'pandas.core.frame.DataFrame'>\n",
      "RangeIndex: 813 entries, 0 to 812\n",
      "Data columns (total 5 columns):\n",
      " #   Column    Non-Null Count  Dtype  \n",
      "---  ------    --------------  -----  \n",
      " 0   id        813 non-null    int64  \n",
      " 1   tittle    813 non-null    object \n",
      " 2   link      813 non-null    object \n",
      " 3   content   813 non-null    object \n",
      " 4   category  796 non-null    float64\n",
      "dtypes: float64(1), int64(1), object(3)\n",
      "memory usage: 31.9+ KB\n"
     ]
    }
   ],
   "source": [
    "data.info()"
   ]
  },
  {
   "cell_type": "code",
   "execution_count": 736,
   "metadata": {},
   "outputs": [
    {
     "data": {
      "text/plain": [
       "count    796.000000\n",
       "mean       0.525126\n",
       "std        0.499682\n",
       "min        0.000000\n",
       "25%        0.000000\n",
       "50%        1.000000\n",
       "75%        1.000000\n",
       "max        1.000000\n",
       "Name: category, dtype: float64"
      ]
     },
     "execution_count": 736,
     "metadata": {},
     "output_type": "execute_result"
    }
   ],
   "source": [
    "data['category'].describe()"
   ]
  },
  {
   "cell_type": "code",
   "execution_count": 737,
   "metadata": {},
   "outputs": [
    {
     "data": {
      "text/plain": [
       "1.0    418\n",
       "0.0    378\n",
       "Name: category, dtype: int64"
      ]
     },
     "execution_count": 737,
     "metadata": {},
     "output_type": "execute_result"
    }
   ],
   "source": [
    "data['category'].value_counts()"
   ]
  },
  {
   "cell_type": "code",
   "execution_count": 738,
   "metadata": {},
   "outputs": [
    {
     "data": {
      "image/png": "[encoded data removed]",
      "text/plain": [
       "<Figure size 432x288 with 1 Axes>"
      ]
     },
     "metadata": {
      "needs_background": "light"
     },
     "output_type": "display_data"
    }
   ],
   "source": [
    "sns.countplot(data['category']);"
   ]
  },
  {
   "cell_type": "markdown",
   "metadata": {},
   "source": [
    "### Data preprocessing"
   ]
  },
  {
   "cell_type": "code",
   "execution_count": 739,
   "metadata": {},
   "outputs": [],
   "source": [
    "data.dropna(inplace=True)"
   ]
  },
  {
   "cell_type": "code",
   "execution_count": 740,
   "metadata": {},
   "outputs": [],
   "source": [
    "data['category'] = data['category'].astype(int)"
   ]
  },
  {
   "cell_type": "code",
   "execution_count": 741,
   "metadata": {
    "scrolled": true
   },
   "outputs": [],
   "source": [
    "train, test = train_test_split(data, test_size = 0.3, random_state=1)\n"
   ]
  },
  {
   "cell_type": "code",
   "execution_count": null,
   "metadata": {},
   "outputs": [],
   "source": []
  },
  {
   "cell_type": "code",
   "execution_count": 742,
   "metadata": {},
   "outputs": [],
   "source": [
    "def remove_non_words(content):\n",
    "    \n",
    "    content = re.sub(r'[^\\w\\s]', '', text)\n",
    "    content = re.sub(r'\\d+', '', text)\n",
    "    return content\n",
    "\n",
    "\n",
    "def stem_text(text):\n",
    "    stemmer = PorterStemmer()\n",
    "    token_words = word_tokenize(text)\n",
    "    stem_text = []\n",
    "    for word in token_words:\n",
    "        stem_text.append(stemmer.stem(word))\n",
    "        stem_text.append(' ')\n",
    "    return ''.join(stem_text)\n",
    "\n",
    "\n",
    "def lemm_text(text):\n",
    "    wordnet_lemmatizer = WordNetLemmatizer()\n",
    "    token_words = word_tokenize(text)\n",
    "    lemm_text = []\n",
    "    for word in token_words:\n",
    "        lemm_text.append(wordnet_lemmatizer.lemmatize(word))\n",
    "        lemm_text.append(' ')\n",
    "    return ''.join(lemm_text)\n",
    "    "
   ]
  },
  {
   "cell_type": "code",
   "execution_count": 743,
   "metadata": {},
   "outputs": [],
   "source": [
    "#preprocessing text\n",
    "\n",
    "clean_train = []\n",
    "clean_test = []\n",
    "clean_new = []\n",
    "for text in train['content']:\n",
    "    clean_train.append(remove_non_words(text))\n",
    "        \n",
    "        \n",
    "for text in test['content']:\n",
    "    clean_test.append(remove_non_words(text))\n",
    "    \n",
    "\n",
    "'''for i, text in enumerate(clean_train):\n",
    "    clean_train[i] = lemm_text(text)\n",
    "    \n",
    "    \n",
    "for i, text in enumerate(clean_test):\n",
    "    clean_test[i] = lemm_text(text)'''\n",
    "    \n",
    "        \n",
    "for i, text in enumerate(clean_train):\n",
    "    clean_train[i] = stem_text(text)\n",
    "    \n",
    "    \n",
    "for i, text in enumerate(clean_test):\n",
    "    clean_test[i] = stem_text(text)\n",
    "  "
   ]
  },
  {
   "cell_type": "markdown",
   "metadata": {},
   "source": [
    "### Feature extraction"
   ]
  },
  {
   "cell_type": "markdown",
   "metadata": {},
   "source": [
    "TF-IDF vectorizer"
   ]
  },
  {
   "cell_type": "code",
   "execution_count": 744,
   "metadata": {},
   "outputs": [],
   "source": [
    "vectorizer = TfidfVectorizer(stop_words='english', ngram_range=(1,3), max_df=0.8, min_df=2, sublinear_tf=True)\n",
    "\n",
    "vectorizer.fit(clean_train)\n",
    "\n",
    "X_train = vectorizer.transform(clean_train)\n",
    "\n",
    "X_test = vectorizer.transform(clean_test)\n",
    "\n",
    "\n"
   ]
  },
  {
   "cell_type": "markdown",
   "metadata": {},
   "source": [
    "Count Vectorizer"
   ]
  },
  {
   "cell_type": "code",
   "execution_count": 745,
   "metadata": {},
   "outputs": [
    {
     "data": {
      "text/plain": [
       "\"vectorizer = CountVectorizer(stop_words='english', ngram_range=(1,3), max_df=0.8, min_df=2)\\n\\nvectorizer.fit(clean_train)\\n\\nX_train = vectorizer.transform(clean_train)\\n\\nX_test = vectorizer.transform(clean_test)\""
      ]
     },
     "execution_count": 745,
     "metadata": {},
     "output_type": "execute_result"
    }
   ],
   "source": [
    "'''vectorizer = CountVectorizer(stop_words='english', ngram_range=(1,3), max_df=0.8, min_df=2)\n",
    "\n",
    "vectorizer.fit(clean_train)\n",
    "\n",
    "X_train = vectorizer.transform(clean_train)\n",
    "\n",
    "X_test = vectorizer.transform(clean_test)'''"
   ]
  },
  {
   "cell_type": "code",
   "execution_count": 746,
   "metadata": {},
   "outputs": [],
   "source": [
    "fselect = SelectKBest(chi2 , k=25000)\n",
    "X_train = fselect.fit_transform(X_train, train['category'])\n",
    "X_test = fselect.transform(X_test)"
   ]
  },
  {
   "cell_type": "markdown",
   "metadata": {},
   "source": [
    "### Models"
   ]
  },
  {
   "cell_type": "markdown",
   "metadata": {},
   "source": [
    "Logistic Regression"
   ]
  },
  {
   "cell_type": "code",
   "execution_count": 747,
   "metadata": {
    "scrolled": true
   },
   "outputs": [
    {
     "data": {
      "text/plain": [
       "0.7531380753138075"
      ]
     },
     "execution_count": 747,
     "metadata": {},
     "output_type": "execute_result"
    }
   ],
   "source": [
    "log_reg  = LogisticRegression(solver='liblinear', C=9, random_state=42, n_jobs=-1)\n",
    "\n",
    "log_reg.fit(X_train, train['category'])\n",
    "\n",
    "log_reg_predict = log_reg.predict(X_test)\n",
    "\n",
    "accuracy_score(test['category'], log_reg_predict)"
   ]
  },
  {
   "cell_type": "code",
   "execution_count": 748,
   "metadata": {},
   "outputs": [
    {
     "data": {
      "text/plain": [
       "\"parameters = {'C': [1, 2, 3, 5, 6, 7, 8, 9, 10]}\\n\\nlog_reg_cv = GridSearchCV(LogisticRegression(solver='liblinear', random_state=42, n_jobs=-1), parameters)\\n\\nlog_reg_cv.fit(X_train, train['category'])\\n\\nlog_reg_predict_cv = log_reg_cv.predict(X_test)\\n\\naccuracy_score(test['category'], log_reg_predict_cv)\""
      ]
     },
     "execution_count": 748,
     "metadata": {},
     "output_type": "execute_result"
    }
   ],
   "source": [
    "'''parameters = {'C': [1, 2, 3, 5, 6, 7, 8, 9, 10]}\n",
    "\n",
    "log_reg_cv = GridSearchCV(LogisticRegression(solver='liblinear', random_state=42, n_jobs=-1), parameters)\n",
    "\n",
    "log_reg_cv.fit(X_train, train['category'])\n",
    "\n",
    "log_reg_predict_cv = log_reg_cv.predict(X_test)\n",
    "\n",
    "accuracy_score(test['category'], log_reg_predict_cv)'''"
   ]
  },
  {
   "cell_type": "code",
   "execution_count": 749,
   "metadata": {},
   "outputs": [
    {
     "data": {
      "text/plain": [
       "'log_reg_cv.best_params_'"
      ]
     },
     "execution_count": 749,
     "metadata": {},
     "output_type": "execute_result"
    }
   ],
   "source": [
    "'''log_reg_cv.best_params_'''"
   ]
  },
  {
   "cell_type": "markdown",
   "metadata": {},
   "source": [
    "Support Vector Classification"
   ]
  },
  {
   "cell_type": "code",
   "execution_count": 750,
   "metadata": {},
   "outputs": [
    {
     "data": {
      "text/plain": [
       "0.7405857740585774"
      ]
     },
     "execution_count": 750,
     "metadata": {},
     "output_type": "execute_result"
    }
   ],
   "source": [
    "svc = SVC(kernel='linear', C=5, random_state=42)\n",
    "\n",
    "svc.fit(X_train, train['category'])\n",
    "\n",
    "svc_predict = svc.predict(X_test)\n",
    "\n",
    "accuracy_score(test['category'], svc_predict)"
   ]
  },
  {
   "cell_type": "code",
   "execution_count": 751,
   "metadata": {},
   "outputs": [
    {
     "data": {
      "text/plain": [
       "\"parameters = {'kernel': ('linear', 'rbf'),\\n              'C': [1, 2, 3, 5, 6, 7, 8, 9, 10]}\\n\\nsvc_cv = GridSearchCV(SVC(random_state=42), parameters)\\n\\nsvc_cv.fit(X_train, train['category'])\\n\\nsvc_predict_cv = svc_cv.predict(X_test)\\n\\naccuracy_score(test['category'], svc_predict_cv)\""
      ]
     },
     "execution_count": 751,
     "metadata": {},
     "output_type": "execute_result"
    }
   ],
   "source": [
    "'''parameters = {'kernel': ('linear', 'rbf'),\n",
    "              'C': [1, 2, 3, 5, 6, 7, 8, 9, 10]}\n",
    "\n",
    "svc_cv = GridSearchCV(SVC(random_state=42), parameters)\n",
    "\n",
    "svc_cv.fit(X_train, train['category'])\n",
    "\n",
    "svc_predict_cv = svc_cv.predict(X_test)\n",
    "\n",
    "accuracy_score(test['category'], svc_predict_cv)'''"
   ]
  },
  {
   "cell_type": "code",
   "execution_count": 752,
   "metadata": {},
   "outputs": [
    {
     "data": {
      "text/plain": [
       "'svc_cv.best_params_'"
      ]
     },
     "execution_count": 752,
     "metadata": {},
     "output_type": "execute_result"
    }
   ],
   "source": [
    "'''svc_cv.best_params_'''"
   ]
  },
  {
   "cell_type": "markdown",
   "metadata": {},
   "source": [
    "Naive Bayes"
   ]
  },
  {
   "cell_type": "code",
   "execution_count": 753,
   "metadata": {},
   "outputs": [
    {
     "data": {
      "text/plain": [
       "0.7489539748953975"
      ]
     },
     "execution_count": 753,
     "metadata": {},
     "output_type": "execute_result"
    }
   ],
   "source": [
    "bayes_clf = MultinomialNB()\n",
    "\n",
    "bayes_clf.fit(X_train, train['category'])\n",
    "\n",
    "bayes_clf_predict = bayes_clf.predict(X_test)\n",
    "\n",
    "accuracy_score(test['category'], bayes_clf_predict)"
   ]
  },
  {
   "cell_type": "code",
   "execution_count": null,
   "metadata": {},
   "outputs": [],
   "source": []
  },
  {
   "cell_type": "code",
   "execution_count": null,
   "metadata": {},
   "outputs": [],
   "source": []
  },
  {
   "cell_type": "code",
   "execution_count": null,
   "metadata": {},
   "outputs": [],
   "source": []
  },
  {
   "cell_type": "code",
   "execution_count": null,
   "metadata": {},
   "outputs": [],
   "source": []
  },
  {
   "cell_type": "code",
   "execution_count": null,
   "metadata": {},
   "outputs": [],
   "source": []
  },
  {
   "cell_type": "code",
   "execution_count": null,
   "metadata": {},
   "outputs": [],
   "source": []
  },
  {
   "cell_type": "code",
   "execution_count": null,
   "metadata": {},
   "outputs": [],
   "source": []
  },
  {
   "cell_type": "code",
   "execution_count": null,
   "metadata": {},
   "outputs": [],
   "source": []
  },
  {
   "cell_type": "code",
   "execution_count": null,
   "metadata": {},
   "outputs": [],
   "source": []
  },
  {
   "cell_type": "code",
   "execution_count": null,
   "metadata": {},
   "outputs": [],
   "source": []
  },
  {
   "cell_type": "code",
   "execution_count": null,
   "metadata": {},
   "outputs": [],
   "source": []
  },
  {
   "cell_type": "code",
   "execution_count": null,
   "metadata": {},
   "outputs": [],
   "source": [
    "\n"
   ]
  },
  {
   "cell_type": "code",
   "execution_count": null,
   "metadata": {},
   "outputs": [],
   "source": []
  },
  {
   "cell_type": "code",
   "execution_count": null,
   "metadata": {},
   "outputs": [],
   "source": []
  },
  {
   "cell_type": "code",
   "execution_count": null,
   "metadata": {},
   "outputs": [],
   "source": [
    "\n"
   ]
  },
  {
   "cell_type": "code",
   "execution_count": null,
   "metadata": {},
   "outputs": [],
   "source": []
  },
  {
   "cell_type": "markdown",
   "metadata": {},
   "source": [
    "\n",
    "\n",
    "\n",
    "\n",
    "\n",
    "\n",
    "\n",
    "\n",
    "\n",
    "\n",
    "\n",
    "\n",
    "\n",
    "\n",
    "\n",
    "\n",
    "\n",
    "\n",
    "\n",
    "\n",
    "\n"
   ]
  }
 ],
 "metadata": {
  "kernelspec": {
   "display_name": "Python 3",
   "language": "python",
   "name": "python3"
  },
  "language_info": {
   "codemirror_mode": {
    "name": "ipython",
    "version": 3
   },
   "file_extension": ".py",
   "mimetype": "text/x-python",
   "name": "python",
   "nbconvert_exporter": "python",
   "pygments_lexer": "ipython3",
   "version": "3.8.8"
  }
 },
 "nbformat": 4,
 "nbformat_minor": 1
}